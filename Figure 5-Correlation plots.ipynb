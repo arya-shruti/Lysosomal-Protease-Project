{
 "cells": [
  {
   "cell_type": "code",
   "execution_count": null,
   "metadata": {},
   "outputs": [],
   "source": [
    "#importing required modules and packages \n",
    "import pandas as pd\n",
    "import pandasql\n",
    "from pandasql import sqldf\n",
    "import numpy as np\n",
    "\n",
    "import matplotlib.pyplot as plt\n",
    "import matplotlib.lines as mlines\n",
    "import matplotlib.transforms as mtransforms\n",
    "import seaborn as sns\n",
    "import matplotlib.cbook as cbook\n",
    "\n",
    "from matplotlib import rcParams\n",
    "\n",
    "from pandasql import sqldf\n",
    "pysqldf = lambda q: sqldf(q, globals())\n",
    "!pip install fastcluster"
   ]
  },
  {
   "cell_type": "code",
   "execution_count": null,
   "metadata": {},
   "outputs": [],
   "source": [
    "#import multiplettests\n",
    "from statsmodels.stats.multitest import multipletests"
   ]
  },
  {
   "cell_type": "code",
   "execution_count": null,
   "metadata": {},
   "outputs": [],
   "source": [
    "#importing correlation functions\n",
    "from scipy import stats\n",
    "from scipy.stats import kendalltau, pearsonr, spearmanr"
   ]
  },
  {
   "cell_type": "code",
   "execution_count": null,
   "metadata": {},
   "outputs": [],
   "source": [
    "#Creating a list of all proteases in the order we want\n",
    "#Alphabetical order was followed here, except for AEP which is a different type of protease\n",
    "CTS_type = ['CTSA_pH 4.5', \n",
    "            'CTSB_pH 4.5_pH 5.5',\n",
    "            'CTSD_pH 3.4_pH 4.5', \n",
    "            'CTSE_pH 3.4_pH 4.5', \n",
    "            'CTSF_pH 4.5',\n",
    "            'CTSK_pH 4.5', \n",
    "            'CTSL_pH 4.5_pH 5.5', \n",
    "            'CTSO_pH 5.5',\n",
    "            'CTSS_pH 4.5_pH 5.5', \n",
    "            'CTSV_pH 3.4_pH 4.5', \n",
    "            'CTSX_pH 3.4_pH 4.5',\n",
    "            'AEP_pH 4.5_pH 5.5']"
   ]
  },
  {
   "cell_type": "code",
   "execution_count": null,
   "metadata": {},
   "outputs": [],
   "source": [
    "#ASyn"
   ]
  },
  {
   "cell_type": "code",
   "execution_count": null,
   "metadata": {},
   "outputs": [],
   "source": [
    "#Selecting ASyn data from the file\n",
    "df_asyn = pd.read_excel('Supplementary Data 1.xlsx', sheet_name = 'ASyn')\n",
    "df_asyn = df_asyn.set_index('position of P1 site in protein')"
   ]
  },
  {
   "cell_type": "code",
   "execution_count": null,
   "metadata": {},
   "outputs": [],
   "source": [
    "#Viewing ASyn data\n",
    "df_asyn"
   ]
  },
  {
   "cell_type": "code",
   "execution_count": null,
   "metadata": {},
   "outputs": [],
   "source": [
    "#Specifying the order in which we want proteases to appear in our data using CTS_type list\n",
    "df_asyn_rearr = df_asyn.reindex(columns=CTS_type)\n",
    "df_asyn_rearr.head(2)"
   ]
  },
  {
   "cell_type": "code",
   "execution_count": null,
   "metadata": {},
   "outputs": [],
   "source": [
    "#Renaming the columns\n",
    "df_asyn_rearr.rename(columns = {'CTSA_pH 4.5':'A',\n",
    "            'CTSB_pH 4.5_pH 5.5':'B',\n",
    "            'CTSD_pH 3.4_pH 4.5':'D', \n",
    "            'CTSE_pH 3.4_pH 4.5':'E',  \n",
    "            'CTSF_pH 4.5':'F',\n",
    "            'CTSK_pH 4.5':'K', \n",
    "            'CTSL_pH 4.5_pH 5.5':'L', \n",
    "            'CTSO_pH 5.5':'O',\n",
    "            'CTSS_pH 4.5_pH 5.5':'S', \n",
    "            'CTSV_pH 3.4_pH 4.5':'V', \n",
    "            'CTSX_pH 3.4_pH 4.5':'X',\n",
    "            'AEP_pH 4.5_pH 5.5':'AEP'}, \n",
    "                                   inplace = True)\n",
    "df_asyn_rearr.head(5)\n",
    "\n",
    "#Excluding columns A, F and O from ASyn dataframe as all the values within these columns correspond to zero (no cleavage)  \n",
    "df_asyn_rearr_wo_AFO = df_asyn_rearr.drop(['A','F','O'], axis = 1)\n"
   ]
  },
  {
   "cell_type": "code",
   "execution_count": null,
   "metadata": {},
   "outputs": [],
   "source": [
    "#Heatmap with correlation coefficients and p values--dpi 100\n",
    "\n",
    "sns.set_theme(style=\"white\")\n",
    "cmap = sns.light_palette(\"mediumaquamarine\", as_cmap=True)\n",
    "\n",
    "#Pairwise correlation of all columns in ASyn dataframe using Spearman correlation method\n",
    "asyn_corr = df_asyn_rearr_wo_AFO.corr(method='spearman').round(2)\n",
    "\n",
    "#P values \n",
    "pval_asyn = asyn_corr.corr(method=lambda x, y: spearmanr(x, y)[1]) - np.eye(*asyn_corr.shape)\n",
    "\n",
    "#Set the p values, *** for less than 0.001, ** for less than 0.01, * for less than 0.05\n",
    "p = pval_asyn.applymap(lambda x: ''.join(['*' for t in [0.001,0.01,0.05] if x<=t]))\n",
    "\n",
    "#Correlation coefficients + p values\n",
    "asyn_corr_p = asyn_corr.astype(str) + p\n",
    "asyn_corr_p_map = asyn_corr_p.to_numpy()\n",
    "\n",
    "\n",
    "#Plot the heatmap\n",
    "df_asyn_corr_p = asyn_corr.where(np.tril(np.ones(asyn_corr.shape)).astype(np.bool_))\n",
    "\n",
    "f, ax = plt.subplots(figsize=(12, 10), dpi=100)\n",
    "\n",
    "g_asyn = sns.heatmap(df_asyn_corr_p, annot=asyn_corr_p_map, cmap=cmap, vmax=0.5, vmin=-0.5, center=0,\n",
    "            square=False, linewidths=.1,\n",
    "                cbar_kws={\"shrink\": 0.5, \"pad\": -0.1}, annot_kws={\"size\":15}, \n",
    "                fmt='')\n",
    "\n",
    "plt.setp(g_asyn.yaxis.get_majorticklabels(), rotation=0, fontsize=20)\n",
    "plt.setp(g_asyn.xaxis.get_majorticklabels(), rotation=0, fontsize=20)\n",
    "\n",
    "plt.show()"
   ]
  },
  {
   "cell_type": "code",
   "execution_count": null,
   "metadata": {},
   "outputs": [],
   "source": [
    "#TDP43"
   ]
  },
  {
   "cell_type": "code",
   "execution_count": null,
   "metadata": {},
   "outputs": [],
   "source": [
    "#Selecting TDP43 data from the file\n",
    "df_tdp43 = pd.read_excel('Supplementary Data 1.xlsx', sheet_name = 'TDP43')\n",
    "df_tdp43 = df_tdp43.set_index('position of P1 site in protein')"
   ]
  },
  {
   "cell_type": "code",
   "execution_count": null,
   "metadata": {},
   "outputs": [],
   "source": [
    "#Viewing TDP43 data\n",
    "df_tdp43"
   ]
  },
  {
   "cell_type": "code",
   "execution_count": null,
   "metadata": {},
   "outputs": [],
   "source": [
    "#Specifying the order in which we want proteases to appear in our data using CTS_type list\n",
    "df_tdp43_rearr = df_tdp43.reindex(columns=CTS_type)\n",
    "df_tdp43_rearr.head(2)"
   ]
  },
  {
   "cell_type": "code",
   "execution_count": null,
   "metadata": {},
   "outputs": [],
   "source": [
    "#Renaming the columns\n",
    "df_tdp43_rearr.rename(columns = {'CTSA_pH 4.5':'A',\n",
    "            'CTSB_pH 4.5_pH 5.5':'B',\n",
    "            'CTSD_pH 3.4_pH 4.5':'D', \n",
    "            'CTSE_pH 3.4_pH 4.5':'E',  \n",
    "            'CTSF_pH 4.5':'F',\n",
    "            'CTSK_pH 4.5':'K', \n",
    "            'CTSL_pH 4.5_pH 5.5':'L', \n",
    "            'CTSO_pH 5.5':'O',\n",
    "            'CTSS_pH 4.5_pH 5.5':'S', \n",
    "            'CTSV_pH 3.4_pH 4.5':'V', \n",
    "            'CTSX_pH 3.4_pH 4.5':'X',\n",
    "            'AEP_pH 4.5_pH 5.5':'AEP'}, \n",
    "                                   inplace = True)\n",
    "df_tdp43_rearr.head(5)"
   ]
  },
  {
   "cell_type": "code",
   "execution_count": null,
   "metadata": {},
   "outputs": [],
   "source": [
    "#Heatmap with correlation coefficients and p values--dpi 100\n",
    "\n",
    "sns.set_theme(style=\"white\")\n",
    "cmap = sns.light_palette(\"salmon\", as_cmap=True)\n",
    "\n",
    "#Pairwise correlation of all columns in TDP43 dataframe using Spearman correlation method\n",
    "tdp43_corr = df_tdp43_rearr.corr(method='spearman').round(2)\n",
    "\n",
    "#P values \n",
    "pval_tdp43 = tdp43_corr.corr(method=lambda x, y: spearmanr(x, y)[1]) - np.eye(*tdp43_corr.shape)\n",
    "\n",
    "#Set the p values, *** for less than 0.001, ** for less than 0.01, * for less than 0.05\n",
    "p = pval_tdp43.applymap(lambda x: ''.join(['*' for t in [0.001,0.01,0.05] if x<=t]))\n",
    "\n",
    "#Correlation coefficients + p values\n",
    "tdp43_corr_p = tdp43_corr.astype(str) + p\n",
    "tdp43_corr_p_map = tdp43_corr_p.to_numpy()\n",
    "\n",
    "\n",
    "#Plot the heatmap\n",
    "df_tdp43_corr_p = tdp43_corr.where(np.tril(np.ones(tdp43_corr.shape)).astype(np.bool_))\n",
    "\n",
    "f, ax = plt.subplots(figsize=(12, 10), dpi=100)\n",
    "\n",
    "g_tdp43 = sns.heatmap(df_tdp43_corr_p, annot=tdp43_corr_p_map, cmap=cmap, vmax=0.5, vmin=-0.5, center=0,\n",
    "            square=False, linewidths=.1,\n",
    "                cbar_kws={\"shrink\": 0.5, \"pad\": -0.1}, annot_kws={\"size\":15}, \n",
    "                fmt='')\n",
    "\n",
    "plt.setp(g_tdp43.yaxis.get_majorticklabels(), rotation=0, fontsize=20)\n",
    "plt.setp(g_tdp43.xaxis.get_majorticklabels(), rotation=0, fontsize=20)\n",
    "\n",
    "plt.show()"
   ]
  },
  {
   "cell_type": "code",
   "execution_count": null,
   "metadata": {},
   "outputs": [],
   "source": [
    "#Tau"
   ]
  },
  {
   "cell_type": "code",
   "execution_count": null,
   "metadata": {},
   "outputs": [],
   "source": [
    "#Selecting tau data from the file\n",
    "df_tau = pd.read_excel('Supplementary Data 1.xlsx', sheet_name = 'Tau')\n",
    "df_tau = df_tau.set_index('position of P1 site in protein')"
   ]
  },
  {
   "cell_type": "code",
   "execution_count": null,
   "metadata": {},
   "outputs": [],
   "source": [
    "#Viewing tau data\n",
    "df_tau"
   ]
  },
  {
   "cell_type": "code",
   "execution_count": null,
   "metadata": {},
   "outputs": [],
   "source": [
    "#Specifying the order in which we want proteases to appear in our data using CTS_type list\n",
    "df_tau_rearr = df_tau.reindex(columns=CTS_type)\n",
    "df_tau_rearr.head(2)"
   ]
  },
  {
   "cell_type": "code",
   "execution_count": null,
   "metadata": {},
   "outputs": [],
   "source": [
    "#Renaming the columns\n",
    "df_tau_rearr.rename(columns = {'CTSA_pH 4.5':'A',\n",
    "            'CTSB_pH 4.5_pH 5.5':'B',\n",
    "            'CTSD_pH 3.4_pH 4.5':'D', \n",
    "            'CTSE_pH 3.4_pH 4.5':'E',  \n",
    "            'CTSF_pH 4.5':'F',\n",
    "            'CTSK_pH 4.5':'K', \n",
    "            'CTSL_pH 4.5_pH 5.5':'L', \n",
    "            'CTSO_pH 5.5':'O',\n",
    "            'CTSS_pH 4.5_pH 5.5':'S', \n",
    "            'CTSV_pH 3.4_pH 4.5':'V', \n",
    "            'CTSX_pH 3.4_pH 4.5':'X',\n",
    "            'AEP_pH 4.5_pH 5.5':'AEP'}, \n",
    "                                   inplace = True)\n",
    "df_tau_rearr.head(5)"
   ]
  },
  {
   "cell_type": "code",
   "execution_count": null,
   "metadata": {},
   "outputs": [],
   "source": [
    "#Heatmap with correlation coefficients and p values--dpi 100\n",
    "\n",
    "sns.set_theme(style=\"white\")\n",
    "cmap = sns.light_palette(\"cornflowerblue\", as_cmap=True)\n",
    "\n",
    "#Pairwise correlation of all columns in tau dataframe using Spearman correlation method\n",
    "tau_corr = df_tau_rearr.corr(method='spearman').round(2)\n",
    "\n",
    "#P values \n",
    "pval_tau = tau_corr.corr(method=lambda x, y: spearmanr(x, y)[1]) - np.eye(*tau_corr.shape)\n",
    "\n",
    "#Set the p values, *** for less than 0.001, ** for less than 0.01, * for less than 0.05\n",
    "p = pval_tau.applymap(lambda x: ''.join(['*' for t in [0.001,0.01,0.05] if x<=t]))\n",
    "\n",
    "#Correlation coefficients + p values\n",
    "tau_corr_p = tau_corr.astype(str) + p\n",
    "tau_corr_p_map = tau_corr_p.to_numpy()\n",
    "\n",
    "\n",
    "#Plot the heatmap\n",
    "df_tau_corr_p = tau_corr.where(np.tril(np.ones(tau_corr.shape)).astype(np.bool_))\n",
    "\n",
    "f, ax = plt.subplots(figsize=(12, 10), dpi=100)\n",
    "\n",
    "g_tau = sns.heatmap(df_tau_corr_p, annot=tau_corr_p_map, cmap=cmap, vmax=0.5, vmin=-0.5, center=0,\n",
    "            square=False, linewidths=.1,\n",
    "                cbar_kws={\"shrink\": 0.5, \"pad\": -0.1}, annot_kws={\"size\":15}, \n",
    "                fmt='')\n",
    "\n",
    "plt.setp(g_tau.yaxis.get_majorticklabels(), rotation=0, fontsize=20)\n",
    "plt.setp(g_tau.xaxis.get_majorticklabels(), rotation=0, fontsize=20)\n",
    "\n",
    "plt.show()"
   ]
  },
  {
   "cell_type": "markdown",
   "metadata": {},
   "source": []
  }
 ],
 "metadata": {
  "kernelspec": {
   "display_name": "Python 3",
   "language": "python",
   "name": "python3"
  },
  "language_info": {
   "codemirror_mode": {
    "name": "ipython",
    "version": 3
   },
   "file_extension": ".py",
   "mimetype": "text/x-python",
   "name": "python",
   "nbconvert_exporter": "python",
   "pygments_lexer": "ipython3",
   "version": "3.8.5"
  }
 },
 "nbformat": 4,
 "nbformat_minor": 4
}
