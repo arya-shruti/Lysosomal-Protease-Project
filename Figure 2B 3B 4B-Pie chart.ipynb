{
 "cells": [
  {
   "cell_type": "code",
   "execution_count": null,
   "metadata": {},
   "outputs": [],
   "source": [
    "# importing relevant modules and packages \n",
    "import pandas as pd\n",
    "import pandasql\n",
    "from pandasql import sqldf\n",
    "import numpy as np\n",
    "\n",
    "import matplotlib.pyplot as plt\n",
    "import matplotlib.lines as mlines\n",
    "import matplotlib.transforms as mtransforms\n",
    "import seaborn as sns\n",
    "import matplotlib.cbook as cbook\n",
    "\n",
    "from matplotlib import rcParams\n",
    "\n",
    "from pandasql import sqldf\n",
    "pysqldf = lambda q: sqldf(q, globals())"
   ]
  },
  {
   "cell_type": "code",
   "execution_count": null,
   "metadata": {},
   "outputs": [],
   "source": [
    "#import multiplettests\n",
    "from statsmodels.stats.multitest import multipletests"
   ]
  },
  {
   "cell_type": "code",
   "execution_count": null,
   "metadata": {},
   "outputs": [],
   "source": [
    "#importing correlation functions\n",
    "from scipy import stats\n",
    "from scipy.stats import kendalltau, pearsonr, spearmanr"
   ]
  },
  {
   "cell_type": "code",
   "execution_count": null,
   "metadata": {},
   "outputs": [],
   "source": [
    "#Creating the list of all columns from the raw data in the order desired\n",
    "CTS_type = ['CTSA_pH 4.5', \n",
    "            'CTSB_pH 4.5_pH 5.5',\n",
    "            'CTSD_pH 3.4_pH 4.5', \n",
    "            'CTSE_pH 3.4_pH 4.5', \n",
    "            'CTSF_pH 4.5',\n",
    "            'CTSK_pH 4.5', \n",
    "            'CTSL_pH 4.5_pH 5.5', \n",
    "            'CTSO_pH 5.5',\n",
    "            'CTSS_pH 4.5_pH 5.5', \n",
    "            'CTSV_pH 3.4_pH 4.5', \n",
    "            'CTSX_pH 3.4_pH 4.5',\n",
    "            'AEP_pH 4.5_pH 5.5']"
   ]
  },
  {
   "cell_type": "code",
   "execution_count": null,
   "metadata": {},
   "outputs": [],
   "source": [
    "#ASyn"
   ]
  },
  {
   "cell_type": "code",
   "execution_count": null,
   "metadata": {},
   "outputs": [],
   "source": [
    "#Selecting ASyn data from the file\n",
    "df_asyn = pd.read_excel('Supplementary Data 1.xlsx', sheet_name = 'ASyn')\n",
    "df_asyn = df_asyn.set_index('position of P1 site in protein')"
   ]
  },
  {
   "cell_type": "code",
   "execution_count": null,
   "metadata": {},
   "outputs": [],
   "source": [
    "#Viewing ASyn data\n",
    "df_asyn"
   ]
  },
  {
   "cell_type": "code",
   "execution_count": null,
   "metadata": {},
   "outputs": [],
   "source": [
    "#Specifying the order in which we want proteases to appear in our data using CTS_type list\n",
    "df_asyn_rearr = df_asyn.reindex(columns=CTS_type)\n",
    "df_asyn_rearr.head(2)"
   ]
  },
  {
   "cell_type": "code",
   "execution_count": null,
   "metadata": {},
   "outputs": [],
   "source": [
    "#Renaming the columns\n",
    "df_asyn_rearr.rename(columns = {'CTSA_pH 4.5':'A',\n",
    "            'CTSB_pH 4.5_pH 5.5':'B',\n",
    "            'CTSD_pH 3.4_pH 4.5':'D', \n",
    "            'CTSE_pH 3.4_pH 4.5':'E',  \n",
    "            'CTSF_pH 4.5':'F',\n",
    "            'CTSK_pH 4.5':'K', \n",
    "            'CTSL_pH 4.5_pH 5.5':'L', \n",
    "            'CTSO_pH 5.5':'O',\n",
    "            'CTSS_pH 4.5_pH 5.5':'S', \n",
    "            'CTSV_pH 3.4_pH 4.5':'V', \n",
    "            'CTSX_pH 3.4_pH 4.5':'X',\n",
    "            'AEP_pH 4.5_pH 5.5':'AEP'}, \n",
    "                                   inplace = True)\n",
    "df_asyn_rearr.head(5)\n",
    "\n"
   ]
  },
  {
   "cell_type": "code",
   "execution_count": null,
   "metadata": {},
   "outputs": [],
   "source": [
    "#ASyn--Sum of individual protease cleavages\n",
    "asyn_individual_cathepsin = (df_asyn_rearr == 1).astype(int).sum(axis= 'rows')\n",
    "total = asyn_individual_cathepsin.sum()\n",
    "\n",
    "#Arranging in the order of increasing cleavages\n",
    "asyn_individual_cathepsin_order=asyn_individual_cathepsin.sort_values(ascending=True)\n",
    "asyn_individual_cathepsin_order"
   ]
  },
  {
   "cell_type": "code",
   "execution_count": null,
   "metadata": {},
   "outputs": [],
   "source": [
    "#Exclude zeros (if any)\n",
    "Cleavages_asyn_order_nonzero = [value for value in asyn_individual_cathepsin_order if value!=0]\n",
    "Cathepsins_order_nonzero = [value for value in asyn_individual_cathepsin_order.keys() if value!='O' and value!='F' and value!='A']\n",
    "list(Cleavages_asyn_order_nonzero), list(Cathepsins_order_nonzero)"
   ]
  },
  {
   "cell_type": "code",
   "execution_count": null,
   "metadata": {},
   "outputs": [],
   "source": [
    "#Creating custom color map for pie chart\n",
    "from matplotlib.colors import LinearSegmentedColormap\n",
    "colors_heatmap = [[0, 'mintcream'],\n",
    "                  [1, 'mediumaquamarine']]\n",
    "cmap_heatmap = LinearSegmentedColormap.from_list('', colors_heatmap, )\n",
    "cmap_heatmap\n",
    "colors = plt.get_cmap(cmap_heatmap)(np.linspace(0, 1, len(Cleavages_asyn_order_nonzero)))"
   ]
  },
  {
   "cell_type": "code",
   "execution_count": null,
   "metadata": {},
   "outputs": [],
   "source": [
    "#Pie chart showing number and % of individual protease cleavages \n",
    "def make_autopct(x):\n",
    "    def my_autopct(pct):\n",
    "    \n",
    "        val = int(round(pct*total/100.0))\n",
    "        return '{v:d}({p:.0f}%)'.format(p=pct,v=val)\n",
    "    return my_autopct\n",
    "\n",
    "patches, labels, pct_texts = plt.pie(Cleavages_asyn_order_nonzero,\n",
    "        colors=colors,  \n",
    "    wedgeprops={'linewidth': 1.0, 'edgecolor': 'grey'},\n",
    "    textprops={'weight': 'bold','fontsize':50}, startangle=180, radius=8, shadow = False, \n",
    "        autopct=make_autopct(Cleavages_asyn_order_nonzero), pctdistance=0.8, labeldistance=1.05, labels=Cathepsins_order_nonzero)\n",
    "\n",
    "    \n",
    "plt.show()"
   ]
  },
  {
   "cell_type": "code",
   "execution_count": null,
   "metadata": {},
   "outputs": [],
   "source": []
  }
 ],
 "metadata": {
  "celltoolbar": "Raw Cell Format",
  "kernelspec": {
   "display_name": "Python 3",
   "language": "python",
   "name": "python3"
  },
  "language_info": {
   "codemirror_mode": {
    "name": "ipython",
    "version": 3
   },
   "file_extension": ".py",
   "mimetype": "text/x-python",
   "name": "python",
   "nbconvert_exporter": "python",
   "pygments_lexer": "ipython3",
   "version": "3.8.5"
  }
 },
 "nbformat": 4,
 "nbformat_minor": 4
}
