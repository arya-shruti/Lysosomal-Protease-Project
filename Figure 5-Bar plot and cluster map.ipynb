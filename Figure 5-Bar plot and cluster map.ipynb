{
 "cells": [
  {
   "cell_type": "code",
   "execution_count": null,
   "metadata": {},
   "outputs": [],
   "source": [
    "# importing relevant modules and packages \n",
    "import pandas as pd\n",
    "import pandasql\n",
    "from pandasql import sqldf\n",
    "import numpy as np\n",
    "\n",
    "import matplotlib.pyplot as plt\n",
    "import matplotlib.lines as mlines\n",
    "import matplotlib.transforms as mtransforms\n",
    "import seaborn as sns\n",
    "import matplotlib.cbook as cbook\n",
    "\n",
    "from matplotlib import rcParams\n",
    "\n",
    "from pandasql import sqldf\n",
    "pysqldf = lambda q: sqldf(q, globals())"
   ]
  },
  {
   "cell_type": "code",
   "execution_count": null,
   "metadata": {},
   "outputs": [],
   "source": [
    "#import multiplettests\n",
    "from statsmodels.stats.multitest import multipletests"
   ]
  },
  {
   "cell_type": "code",
   "execution_count": null,
   "metadata": {},
   "outputs": [],
   "source": [
    "#importing correlation functions\n",
    "from scipy import stats\n",
    "from scipy.stats import kendalltau, pearsonr, spearmanr"
   ]
  },
  {
   "cell_type": "code",
   "execution_count": null,
   "metadata": {},
   "outputs": [],
   "source": [
    "#Creating the list of all columns from the raw data in the order desired\n",
    "CTS_type = ['CTSA_pH 4.5', \n",
    "            'CTSB_pH 4.5_pH 5.5',\n",
    "            'CTSD_pH 3.4_pH 4.5', \n",
    "            'CTSE_pH 3.4_pH 4.5', \n",
    "            'CTSF_pH 4.5',\n",
    "            'CTSK_pH 4.5', \n",
    "            'CTSL_pH 4.5_pH 5.5', \n",
    "            'CTSO_pH 5.5',\n",
    "            'CTSS_pH 4.5_pH 5.5', \n",
    "            'CTSV_pH 3.4_pH 4.5', \n",
    "            'CTSX_pH 3.4_pH 4.5',\n",
    "            'AEP_pH 4.5_pH 5.5']"
   ]
  },
  {
   "cell_type": "code",
   "execution_count": null,
   "metadata": {},
   "outputs": [],
   "source": [
    "#ASyn"
   ]
  },
  {
   "cell_type": "code",
   "execution_count": null,
   "metadata": {},
   "outputs": [],
   "source": [
    "#Selecting ASyn data from the file\n",
    "df_asyn = pd.read_excel('Supplementary Data 1.xlsx', sheet_name = 'ASyn')\n",
    "df_asyn = df_asyn.set_index('position of P1 site in protein')"
   ]
  },
  {
   "cell_type": "code",
   "execution_count": null,
   "metadata": {},
   "outputs": [],
   "source": [
    "#Viewing ASyn data\n",
    "df_asyn"
   ]
  },
  {
   "cell_type": "code",
   "execution_count": null,
   "metadata": {},
   "outputs": [],
   "source": [
    "#Specifying the order in which we want proteases to appear in our data using CTS_type list\n",
    "df_asyn_rearr = df_asyn.reindex(columns=CTS_type)\n",
    "df_asyn_rearr.head(2)"
   ]
  },
  {
   "cell_type": "code",
   "execution_count": null,
   "metadata": {},
   "outputs": [],
   "source": [
    "#Renaming the columns\n",
    "df_asyn_rearr.rename(columns = {'CTSA_pH 4.5':'A',\n",
    "            'CTSB_pH 4.5_pH 5.5':'B',\n",
    "            'CTSD_pH 3.4_pH 4.5':'D', \n",
    "            'CTSE_pH 3.4_pH 4.5':'E',  \n",
    "            'CTSF_pH 4.5':'F',\n",
    "            'CTSK_pH 4.5':'K', \n",
    "            'CTSL_pH 4.5_pH 5.5':'L', \n",
    "            'CTSO_pH 5.5':'O',\n",
    "            'CTSS_pH 4.5_pH 5.5':'S', \n",
    "            'CTSV_pH 3.4_pH 4.5':'V', \n",
    "            'CTSX_pH 3.4_pH 4.5':'X',\n",
    "            'AEP_pH 4.5_pH 5.5':'AEP'}, \n",
    "                                   inplace = True)\n",
    "df_asyn_rearr.head(5)\n",
    "\n"
   ]
  },
  {
   "cell_type": "code",
   "execution_count": null,
   "metadata": {},
   "outputs": [],
   "source": [
    "#ASyn--Sum of individual protease cleavages\n",
    "asyn_individual_cathepsin = (df_asyn_rearr == 1).astype(int).sum(axis= 'rows')\n",
    "asyn_individual_cathepsin.sum()"
   ]
  },
  {
   "cell_type": "code",
   "execution_count": null,
   "metadata": {},
   "outputs": [],
   "source": [
    "#ASyn--Normalization wrt sum of individual protease cleavages\n",
    "ASyn_individual_cathepsin_total_sites = asyn_individual_cathepsin.div(asyn_individual_cathepsin.sum()).multiply(100)\n",
    "df1 = ASyn_individual_cathepsin_total_sites.to_frame()\n",
    "df1.rename(columns={0:'ASyn'}, inplace=True)\n",
    "df1 = df1.rename_axis('Proteases')\n",
    "df1"
   ]
  },
  {
   "cell_type": "code",
   "execution_count": null,
   "metadata": {},
   "outputs": [],
   "source": [
    "#Selecting TDP43 data from the file\n",
    "df_tdp43 = pd.read_excel('Supplementary Data 1.xlsx', sheet_name = 'TDP43')\n",
    "df_tdp43 = df_tdp43.set_index('position of P1 site in protein')"
   ]
  },
  {
   "cell_type": "code",
   "execution_count": null,
   "metadata": {},
   "outputs": [],
   "source": [
    "#Viewing TDP43 data\n",
    "df_tdp43"
   ]
  },
  {
   "cell_type": "code",
   "execution_count": null,
   "metadata": {},
   "outputs": [],
   "source": [
    "#Specifying the order in which we want proteases to appear in our data using CTS_type list\n",
    "df_tdp43_rearr = df_tdp43.reindex(columns=CTS_type)\n",
    "df_tdp43_rearr.head(2)"
   ]
  },
  {
   "cell_type": "code",
   "execution_count": null,
   "metadata": {},
   "outputs": [],
   "source": [
    "#Renaming the columns\n",
    "df_tdp43_rearr.rename(columns = {'CTSA_pH 4.5':'A',\n",
    "            'CTSB_pH 4.5_pH 5.5':'B',\n",
    "            'CTSD_pH 3.4_pH 4.5':'D', \n",
    "            'CTSE_pH 3.4_pH 4.5':'E',  \n",
    "            'CTSF_pH 4.5':'F',\n",
    "            'CTSK_pH 4.5':'K', \n",
    "            'CTSL_pH 4.5_pH 5.5':'L', \n",
    "            'CTSO_pH 5.5':'O',\n",
    "            'CTSS_pH 4.5_pH 5.5':'S', \n",
    "            'CTSV_pH 3.4_pH 4.5':'V', \n",
    "            'CTSX_pH 3.4_pH 4.5':'X',\n",
    "            'AEP_pH 4.5_pH 5.5':'AEP'}, \n",
    "                                   inplace = True)\n",
    "df_tdp43_rearr.head(5)"
   ]
  },
  {
   "cell_type": "code",
   "execution_count": null,
   "metadata": {},
   "outputs": [],
   "source": [
    "#TDP43--Sum of individual protease cleavages\n",
    "tdp43_individual_cathepsin = (df_tdp43_rearr == 1).astype(int).sum(axis= 'rows')\n",
    "tdp43_individual_cathepsin.sum()"
   ]
  },
  {
   "cell_type": "code",
   "execution_count": null,
   "metadata": {},
   "outputs": [],
   "source": [
    "#TDP43--Normalization wrt sum of individual protease cleavages\n",
    "TDP43_individual_cathepsin_total_sites = tdp43_individual_cathepsin.div(tdp43_individual_cathepsin.sum()).multiply(100)\n",
    "df2 = TDP43_individual_cathepsin_total_sites.to_frame()\n",
    "df2.rename(columns={0:'TDP43'}, inplace=True)\n",
    "df2 = df2.rename_axis('Proteases')\n",
    "df2"
   ]
  },
  {
   "cell_type": "code",
   "execution_count": null,
   "metadata": {},
   "outputs": [],
   "source": [
    "#Selecting tau data from the file\n",
    "df_tau = pd.read_excel('Supplementary Data 1.xlsx', sheet_name = 'Tau')\n",
    "df_tau = df_tau.set_index('position of P1 site in protein')"
   ]
  },
  {
   "cell_type": "code",
   "execution_count": null,
   "metadata": {},
   "outputs": [],
   "source": [
    "#Viewing tau data\n",
    "df_tau"
   ]
  },
  {
   "cell_type": "code",
   "execution_count": null,
   "metadata": {},
   "outputs": [],
   "source": [
    "#Specifying the order in which we want proteases to appear in our data using CTS_type list\n",
    "df_tau_rearr = df_tau.reindex(columns=CTS_type)\n",
    "df_tau_rearr.head(2)"
   ]
  },
  {
   "cell_type": "code",
   "execution_count": null,
   "metadata": {},
   "outputs": [],
   "source": [
    "#Renaming the columns\n",
    "df_tau_rearr.rename(columns = {'CTSA_pH 4.5':'A',\n",
    "            'CTSB_pH 4.5_pH 5.5':'B',\n",
    "            'CTSD_pH 3.4_pH 4.5':'D', \n",
    "            'CTSE_pH 3.4_pH 4.5':'E',  \n",
    "            'CTSF_pH 4.5':'F',\n",
    "            'CTSK_pH 4.5':'K', \n",
    "            'CTSL_pH 4.5_pH 5.5':'L', \n",
    "            'CTSO_pH 5.5':'O',\n",
    "            'CTSS_pH 4.5_pH 5.5':'S', \n",
    "            'CTSV_pH 3.4_pH 4.5':'V', \n",
    "            'CTSX_pH 3.4_pH 4.5':'X',\n",
    "            'AEP_pH 4.5_pH 5.5':'AEP'}, \n",
    "                                   inplace = True)\n",
    "df_tau_rearr.head(5)"
   ]
  },
  {
   "cell_type": "code",
   "execution_count": null,
   "metadata": {},
   "outputs": [],
   "source": [
    "#Tau--Sum of individual protease cleavages\n",
    "tau_individual_cathepsin = (df_tau_rearr == 1).astype(int).sum(axis= 'rows')\n",
    "tau_individual_cathepsin.sum()"
   ]
  },
  {
   "cell_type": "code",
   "execution_count": null,
   "metadata": {},
   "outputs": [],
   "source": [
    "#Tau--Normalization wrt sum of individual protease cleavages\n",
    "Tau_individual_cathepsin_total_sites = tau_individual_cathepsin.div(tau_individual_cathepsin.sum()).multiply(100)\n",
    "df3 = Tau_individual_cathepsin_total_sites.to_frame()\n",
    "df3.rename(columns={0:'Tau'}, inplace=True)\n",
    "df3 = df3.rename_axis('Proteases')\n",
    "df3"
   ]
  },
  {
   "cell_type": "code",
   "execution_count": null,
   "metadata": {},
   "outputs": [],
   "source": [
    "#All protein data--normalized wrt sum of individual cathepsin cleavages\n",
    "df = pd.concat([df1, df2, df3], axis=1)\n",
    "df"
   ]
  },
  {
   "cell_type": "code",
   "execution_count": null,
   "metadata": {},
   "outputs": [],
   "source": [
    "#Bar plot\n",
    "plt.rcParams.update({\n",
    "    \"figure.facecolor\":  'white',  # red   with alpha = 30%\n",
    "    \"figure.edgecolor\": 'black',\n",
    "    \"axes.edgecolor\":    'black',\n",
    "    \"axes.facecolor\":    'white' # green with alpha = 50%\n",
    "})\n",
    "plt.rcParams[\"font.weight\"] = \"bold\"\n",
    "plt.rcParams[\"figure.dpi\"] = 100\n",
    "\n",
    "y = df[['ASyn','TDP43','Tau']].plot(color = ['mediumaquamarine','lightsalmon','cornflowerblue'], kind='bar', \n",
    "stacked = False, fontsize = 60, figsize = (40, 20), width=0.85, linewidth=2.0)\n",
    "y.xaxis.set_tick_params(labelsize=60, rotation=0)\n",
    "y.legend(loc=2, prop={'size': 40})"
   ]
  },
  {
   "cell_type": "code",
   "execution_count": null,
   "metadata": {},
   "outputs": [],
   "source": [
    "#Mean clustering with data normalized wrt sum of individual cathepsin cleavages\n",
    "mean = df.mean(axis=1)\n",
    "mean_df = pd.concat([mean, mean, mean], axis=1)\n",
    "mean_df.rename(columns={0:'ASyn', 1:'TDP43', 2: 'Tau'}, inplace=True)\n",
    "mean_df\n",
    "mean_cluster = df.div(mean_df)\n",
    "mean_cluster"
   ]
  },
  {
   "cell_type": "code",
   "execution_count": null,
   "metadata": {},
   "outputs": [],
   "source": [
    "#Hierarchical clustering\n",
    "sns.set(rc={'figure.figsize':(120,360),'figure.dpi':100})\n",
    "sns.set(font_scale=1.5)\n",
    "g = sns.clustermap(mean_cluster, method='single',\n",
    "linewidth = 0.5,  cmap = 'Greys', annot=True, col_cluster=False, linecolor='lightgrey', \n",
    "               cbar= False, cbar_pos=(0,0, 0,0))\n",
    "plt.setp(g.ax_heatmap.yaxis.get_majorticklabels(), rotation=0) # ytick rotate\n",
    "g.cax.remove()\n",
    "g.ax_heatmap.tick_params(right=False)\n",
    "plt.show()"
   ]
  },
  {
   "cell_type": "code",
   "execution_count": null,
   "metadata": {},
   "outputs": [],
   "source": []
  }
 ],
 "metadata": {
  "celltoolbar": "Raw Cell Format",
  "kernelspec": {
   "display_name": "Python 3",
   "language": "python",
   "name": "python3"
  },
  "language_info": {
   "codemirror_mode": {
    "name": "ipython",
    "version": 3
   },
   "file_extension": ".py",
   "mimetype": "text/x-python",
   "name": "python",
   "nbconvert_exporter": "python",
   "pygments_lexer": "ipython3",
   "version": "3.8.5"
  }
 },
 "nbformat": 4,
 "nbformat_minor": 4
}
